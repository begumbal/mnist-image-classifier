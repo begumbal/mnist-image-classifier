{
  "nbformat": 4,
  "nbformat_minor": 0,
  "metadata": {
    "colab": {
      "provenance": []
    },
    "kernelspec": {
      "name": "python3",
      "display_name": "Python 3"
    },
    "language_info": {
      "name": "python"
    }
  },
  "cells": [
    {
      "cell_type": "code",
      "source": [
        "import matplotlib.pyplot as plt\n",
        "import tensorflow as tf\n",
        "import math\n",
        "import numpy as np\n",
        "from tensorflow.keras.datasets import mnist\n",
        "from tensorflow.keras.models import Sequential\n",
        "from tensorflow.keras.layers import Dense, Flatten, Dropout\n",
        "from tensorflow.keras.utils import to_categorical\n"
      ],
      "metadata": {
        "id": "mCrziyUTZO7x"
      },
      "execution_count": 12,
      "outputs": []
    },
    {
      "cell_type": "code",
      "source": [
        "# Load dataset (it splits into training and testing sets)\n",
        "(x_train, y_train), (x_test, y_test) = mnist.load_data()\n",
        "\n",
        "# Display the first image in the training set\n",
        "plt.imshow(x_train[0], cmap='gray')\n",
        "plt.title(f\"Label: {np.argmax(y_train[0])}\")\n",
        "plt.axis('off')  # Hide the axes for a cleaner look\n",
        "plt.show()\n",
        "\n",
        "# Print dataset shapes to understand the data\n",
        "print(\"Training set shape:\", x_train.shape, y_train.shape)\n",
        "print(\"Test set shape:\", x_test.shape, y_test.shape)\n"
      ],
      "metadata": {
        "colab": {
          "base_uri": "https://localhost:8080/",
          "height": 464
        },
        "collapsed": true,
        "id": "tsF7u9AjZTyJ",
        "outputId": "9558055c-62a3-4828-89df-96d73f732062"
      },
      "execution_count": 13,
      "outputs": [
        {
          "output_type": "display_data",
          "data": {
            "text/plain": [
              "<Figure size 640x480 with 1 Axes>"
            ],
            "image/png": "[encoded data removed]"
          },
          "metadata": {}
        },
        {
          "output_type": "stream",
          "name": "stdout",
          "text": [
            "Training set shape: (60000, 28, 28) (60000,)\n",
            "Test set shape: (10000, 28, 28) (10000,)\n"
          ]
        }
      ]
    },
    {
      "cell_type": "code",
      "source": [
        "\n",
        "# Normalize image pixel values to [0, 1]\n",
        "x_train = x_train.astype('float32') / 255.0\n",
        "x_test = x_test.astype('float32') / 255.0\n",
        "\n",
        "# Convert labels to one-hot encoded vectors\n",
        "y_train = to_categorical(y_train, num_classes=10)\n",
        "y_test = to_categorical(y_test, num_classes=10)"
      ],
      "metadata": {
        "id": "poAOqtdTZZBw"
      },
      "execution_count": 14,
      "outputs": []
    },
    {
      "cell_type": "code",
      "source": [
        "# Build the model\n",
        "model = Sequential([\n",
        "    # Flatten the 2D image into a 1D vector\n",
        "    Flatten(input_shape=(28, 28)),\n",
        "\n",
        "    # First dense layer with 128 neurons and ReLU activation\n",
        "    Dense(128, activation='relu'),\n",
        "\n",
        "    # Optional: Dropout layer to help prevent overfitting\n",
        "    Dropout(0.2),\n",
        "\n",
        "    # Output layer with 10 neurons (one for each digit) using softmax activation\n",
        "    Dense(10, activation='softmax')\n",
        "])\n",
        "\n",
        "# Compile the model\n",
        "model.compile(optimizer='adam',\n",
        "              loss='categorical_crossentropy',\n",
        "              metrics=['accuracy'])\n",
        "\n",
        "# Train the model\n",
        "history = model.fit(x_train, y_train,\n",
        "                    epochs=3,        # Try starting with 5 epochs\n",
        "                    batch_size=32,   # Number of samples per gradient update\n",
        "                    validation_split=0.1)  # Use 10% of training data for validation"
      ],
      "metadata": {
        "colab": {
          "base_uri": "https://localhost:8080/"
        },
        "id": "9TlBq8DjZduM",
        "outputId": "2ae5710f-fede-4bd1-b513-dbe5405cc361"
      },
      "execution_count": 15,
      "outputs": [
        {
          "output_type": "stream",
          "name": "stderr",
          "text": [
            "/usr/local/lib/python3.11/dist-packages/keras/src/layers/reshaping/flatten.py:37: UserWarning: Do not pass an `input_shape`/`input_dim` argument to a layer. When using Sequential models, prefer using an `Input(shape)` object as the first layer in the model instead.\n",
            "  super().__init__(**kwargs)\n"
          ]
        },
        {
          "output_type": "stream",
          "name": "stdout",
          "text": [
            "Epoch 1/3\n",
            "\u001b[1m1688/1688\u001b[0m \u001b[32m━━━━━━━━━━━━━━━━━━━━\u001b[0m\u001b[37m\u001b[0m \u001b[1m10s\u001b[0m 5ms/step - accuracy: 0.8517 - loss: 0.5060 - val_accuracy: 0.9662 - val_loss: 0.1234\n",
            "Epoch 2/3\n",
            "\u001b[1m1688/1688\u001b[0m \u001b[32m━━━━━━━━━━━━━━━━━━━━\u001b[0m\u001b[37m\u001b[0m \u001b[1m9s\u001b[0m 4ms/step - accuracy: 0.9548 - loss: 0.1535 - val_accuracy: 0.9738 - val_loss: 0.0947\n",
            "Epoch 3/3\n",
            "\u001b[1m1688/1688\u001b[0m \u001b[32m━━━━━━━━━━━━━━━━━━━━\u001b[0m\u001b[37m\u001b[0m \u001b[1m10s\u001b[0m 4ms/step - accuracy: 0.9660 - loss: 0.1109 - val_accuracy: 0.9777 - val_loss: 0.0766\n"
          ]
        }
      ]
    },
    {
      "cell_type": "code",
      "execution_count": 16,
      "metadata": {
        "colab": {
          "base_uri": "https://localhost:8080/"
        },
        "collapsed": true,
        "id": "ZTOIhPUgIn7x",
        "outputId": "fa3239dd-ff78-4b30-a09b-2a54ff8579fa"
      },
      "outputs": [
        {
          "output_type": "stream",
          "name": "stdout",
          "text": [
            "\u001b[1m313/313\u001b[0m \u001b[32m━━━━━━━━━━━━━━━━━━━━\u001b[0m\u001b[37m\u001b[0m \u001b[1m1s\u001b[0m 2ms/step - accuracy: 0.9709 - loss: 0.0964\n",
            "Test accuracy: 0.9747999906539917\n"
          ]
        },
        {
          "output_type": "stream",
          "name": "stderr",
          "text": [
            "WARNING:tensorflow:5 out of the last 5 calls to <function TensorFlowTrainer.make_predict_function.<locals>.one_step_on_data_distributed at 0x7b9326c227a0> triggered tf.function retracing. Tracing is expensive and the excessive number of tracings could be due to (1) creating @tf.function repeatedly in a loop, (2) passing tensors with different shapes, (3) passing Python objects instead of tensors. For (1), please define your @tf.function outside of the loop. For (2), @tf.function has reduce_retracing=True option that can avoid unnecessary retracing. For (3), please refer to https://www.tensorflow.org/guide/function#controlling_retracing and https://www.tensorflow.org/api_docs/python/tf/function for  more details.\n"
          ]
        },
        {
          "output_type": "stream",
          "name": "stdout",
          "text": [
            "\u001b[1m1/1\u001b[0m \u001b[32m━━━━━━━━━━━━━━━━━━━━\u001b[0m\u001b[37m\u001b[0m \u001b[1m0s\u001b[0m 70ms/step\n",
            "Predicted digit: 7\n"
          ]
        }
      ],
      "source": [
        "\n",
        "# Evaluate the model on the test set\n",
        "test_loss, test_accuracy = model.evaluate(x_test, y_test)\n",
        "print(\"Test accuracy:\", test_accuracy)\n",
        "\n",
        "# Get the prediction for the first image in the test set\n",
        "prediction = model.predict(np.expand_dims(x_test[0], axis=0))\n",
        "predicted_digit = np.argmax(prediction)\n",
        "print(\"Predicted digit:\", predicted_digit)\n"
      ]
    },
    {
      "cell_type": "code",
      "source": [
        "\n",
        "\n",
        "# Ask the user for the desired number of images and the start index\n",
        "num_images = int(input(\"How many images do you want to display? \"))\n",
        "start_index = int(input(f\"Enter the start index (0 to {len(x_train)-1}): \"))\n",
        "\n",
        "# Compute the end index automatically\n",
        "end_index = start_index + num_images - 1\n",
        "\n",
        "# Validate the computed end index against the dataset size\n",
        "if end_index >= len(x_train):\n",
        "    print(f\"Warning: The computed end index ({end_index}) exceeds the dataset size ({len(x_train)}). Adjusting to the last available index.\")\n",
        "    end_index = len(x_train) - 1\n",
        "    num_images = end_index - start_index + 1\n",
        "\n",
        "# Generate the list of indices to display\n",
        "indices = list(range(start_index, end_index + 1))\n",
        "\n",
        "# Determine grid size automatically (creates a square-like grid)\n",
        "grid_size = math.ceil(math.sqrt(len(indices)))\n",
        "fig, axes = plt.subplots(grid_size, grid_size, figsize=(12, 12))\n",
        "axes = axes.ravel()  # Flatten the grid for easier iteration\n",
        "\n",
        "# Loop through the selected indices and display the images\n",
        "for i, idx in enumerate(indices):\n",
        "    axes[i].imshow(x_train[idx], cmap='gray')\n",
        "    axes[i].set_title(f\"Label: {np.argmax(y_train[idx])}\")\n",
        "    axes[i].axis('off')\n",
        "\n",
        "# Hide any unused subplots if the grid is larger than the number of images\n",
        "for j in range(i + 1, len(axes)):\n",
        "    axes[j].axis('off')\n",
        "\n",
        "plt.tight_layout()\n",
        "plt.show()\n"
      ],
      "metadata": {
        "colab": {
          "base_uri": "https://localhost:8080/",
          "height": 1000
        },
        "id": "_d2jtqSuNT0I",
        "outputId": "96753c33-82a7-4940-c6b1-59f7da63d373"
      },
      "execution_count": 17,
      "outputs": [
        {
          "name": "stdout",
          "output_type": "stream",
          "text": [
            "How many images do you want to display? 4\n",
            "Enter the start index (0 to 59999): 99\n"
          ]
        },
        {
          "output_type": "display_data",
          "data": {
            "text/plain": [
              "<Figure size 1200x1200 with 4 Axes>"
            ],
            "image/png": "[encoded data removed]"
          },
          "metadata": {}
        }
      ]
    }
  ]
}